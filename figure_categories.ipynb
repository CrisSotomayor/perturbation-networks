{
 "cells": [
  {
   "cell_type": "code",
   "execution_count": 1,
   "metadata": {},
   "outputs": [],
   "source": [
    "import pandas as pd\n",
    "import numpy as np\n",
    "import seaborn as sns\n",
    "import matplotlib.pyplot as plt\n",
    "from collections import Counter\n",
    "import Bio.PDB.Polypeptide as pp\n",
    "from os.path import join\n",
    "import os\n",
    "from main_functions import *"
   ]
  },
  {
   "cell_type": "code",
   "execution_count": 2,
   "metadata": {},
   "outputs": [],
   "source": [
    "pd.set_option('display.max_columns', None)\n",
    "pd.set_option('display.max_rows', None)"
   ]
  },
  {
   "cell_type": "code",
   "execution_count": 3,
   "metadata": {},
   "outputs": [],
   "source": [
    "DATA = 'data/'"
   ]
  },
  {
   "cell_type": "code",
   "execution_count": 4,
   "metadata": {},
   "outputs": [],
   "source": [
    "plt.rcParams[\"figure.facecolor\"] = 'white'"
   ]
  },
  {
   "cell_type": "code",
   "execution_count": 5,
   "metadata": {},
   "outputs": [],
   "source": [
    "proteins = ['1be9', '1d5r', '1nd4', '3dqw', '4bz3']\n",
    "protein_names = ['PSD95', 'PTEN', 'APH(3\\')II', 'Src CD', 'VIM-2']\n",
    "get_name = dict(zip(proteins, protein_names))\n",
    "measures = ['nodes', 'edges', 'weight', 'distance']"
   ]
  },
  {
   "cell_type": "code",
   "execution_count": 6,
   "metadata": {},
   "outputs": [],
   "source": [
    "data_path = join(DATA, 'structure')\n",
    "thresholds = [round(i, 1) for i in np.linspace(3, 10, 71)]\n",
    "sample_thresholds = [round(i, 1) for i in np.linspace(3, 10, 8)]"
   ]
  },
  {
   "cell_type": "code",
   "execution_count": 7,
   "metadata": {},
   "outputs": [],
   "source": [
    "functional_data = dict()\n",
    "for protein in proteins:\n",
    "    csv_file = join(DATA, f'functional_{protein}.csv')\n",
    "    functional_data[protein] = pd.read_csv(csv_file, index_col=0, header=0)"
   ]
  },
  {
   "cell_type": "code",
   "execution_count": 8,
   "metadata": {},
   "outputs": [],
   "source": [
    "tex_fonts = {\n",
    "    # Use LaTeX to write all text\n",
    "    \"text.usetex\": True,\n",
    "    \"font.family\": \"serif\",\n",
    "    # Use 10pt font in plots, to match 10pt font in document\n",
    "    \"axes.labelsize\": 10,\n",
    "    \"font.size\": 10,\n",
    "    # Make the legend/label fonts a little smaller\n",
    "    \"legend.fontsize\": 8,\n",
    "    \"xtick.labelsize\": 8,\n",
    "    \"ytick.labelsize\": 8\n",
    "}\n",
    "\n",
    "plt.rcParams.update(tex_fonts)"
   ]
  },
  {
   "cell_type": "code",
   "execution_count": 9,
   "metadata": {},
   "outputs": [],
   "source": [
    "def set_size(width, fraction=1):\n",
    "    \"\"\"Set figure dimensions to avoid scaling in LaTeX.\n",
    "\n",
    "    Parameters\n",
    "    ----------\n",
    "    width: float\n",
    "            Document textwidth or columnwidth in pts\n",
    "    fraction: float, optional\n",
    "            Fraction of the width which you wish the figure to occupy\n",
    "\n",
    "    Returns\n",
    "    -------\n",
    "    fig_dim: tuple\n",
    "            Dimensions of figure in inches\n",
    "    \"\"\"\n",
    "    # Width of figure (in pts)\n",
    "    fig_width_pt = width * fraction\n",
    "\n",
    "    # Convert from pt to inches\n",
    "    inches_per_pt = 1 / 72.27\n",
    "\n",
    "    # Golden ratio to set aesthetic figure height\n",
    "    # https://disq.us/p/2940ij3\n",
    "    golden_ratio = (5**.5 - 1) / 2\n",
    "\n",
    "    # Figure width in inches\n",
    "    fig_width_in = fig_width_pt * inches_per_pt\n",
    "    # Figure height in inches\n",
    "    fig_height_in = fig_width_in * golden_ratio\n",
    "\n",
    "    fig_dim = (fig_width_in, fig_height_in)\n",
    "\n",
    "    return fig_dim"
   ]
  },
  {
   "cell_type": "code",
   "execution_count": 10,
   "metadata": {},
   "outputs": [],
   "source": [
    "def GetScores(functional_percentage, network_mincount, measure_cutoffs, thresh=9.0, mean=True):\n",
    "    \"\"\"Return precision, recall and prediction percentage scores. Returns list of lists, [precision, recall,\n",
    "    predper] for each protein and the mean, if mean == True \"\"\"\n",
    "    which_scores = ['Precision', 'Recall', 'Improvement', 'SSPs']\n",
    "    scores = {score:[] for score in which_scores}\n",
    "    for protein in proteins:\n",
    "        network_extremes = GetNetworkExtremes(protein, network_mincount, measure_cutoffs, thresh=thresh)\n",
    "        funct_extremes = GetPercentage(functional_percentage, 'lowest', functional_data[protein])\n",
    "        how_many = len(network_extremes.intersection(funct_extremes))\n",
    "        positions = len(functional_data[protein].columns)\n",
    "    \n",
    "        scores['Recall'].append(ToPercentage(how_many, funct_extremes))\n",
    "        precision_score = ToPercentage(how_many, network_extremes)\n",
    "        scores['Precision'].append(precision_score)\n",
    "        scores['Improvement'].append(round(precision_score/40, 2))\n",
    "        ssps = ToPercentage(network_extremes, positions)\n",
    "        scores['SSPs'].append(ssps)\n",
    "        \n",
    "    if mean:\n",
    "        for score in which_scores:\n",
    "            scores[score].append(round(np.mean(scores[score]), 2))\n",
    "            \n",
    "    return scores"
   ]
  },
  {
   "cell_type": "code",
   "execution_count": 11,
   "metadata": {},
   "outputs": [],
   "source": [
    "def GetScoresGain(functional_percentage, network_mincount, measure_cutoffs, thresh=9.0, mean=True):\n",
    "    \"\"\"Return precision, recall and prediction percentage scores. Returns dict with list of three lists, containing \n",
    "    the values for each of the 5 proteins and if mean == True, the mean.\"\"\"\n",
    "    which_scores = ['Precision', 'Recall', 'Improvement', 'SSPs']\n",
    "    scores = {score:[] for score in which_scores}\n",
    "    for protein in proteins:\n",
    "        \n",
    "        network_extremes_loss = GetNetworkExtremes(protein, network_mincount, measure_cutoffs, thresh=thresh)\n",
    "        total_positions = functional_data[protein].columns\n",
    "        funct_extremes = GetPercentage(functional_percentage, 'highest', functional_data[protein])\n",
    "        network_extremes = set([pos for pos in total_positions if pos not in network_extremes_loss])\n",
    "        #network_extremes = network_extremes_loss \n",
    "        \n",
    "        how_many = len(network_extremes.intersection(funct_extremes))\n",
    "        positions = len(functional_data[protein].columns)\n",
    "    \n",
    "        scores['Recall'].append(ToPercentage(how_many, funct_extremes))\n",
    "        precision_score = ToPercentage(how_many, network_extremes)\n",
    "        scores['Precision'].append(precision_score)\n",
    "        scores['Improvement'].append(round(precision_score/(functional_percentage*100), 2))\n",
    "        ssps = ToPercentage(network_extremes, positions)\n",
    "        scores['SSPs'].append(ssps)\n",
    "        \n",
    "    if mean:\n",
    "        for score in which_scores:\n",
    "            scores[score].append(round(np.mean(scores[score]), 2))\n",
    "    return scores"
   ]
  },
  {
   "cell_type": "markdown",
   "metadata": {},
   "source": [
    "## Loss predictions"
   ]
  },
  {
   "cell_type": "code",
   "execution_count": 12,
   "metadata": {},
   "outputs": [],
   "source": [
    "def BoxenData(functional_percentage, network_mincount, measure_cutoffs, thresh=9.0, mean=True, gain=False):\n",
    "    \"\"\"Return DataFrame with Recall, Precision and Improvement scores for 5 proteins and mean, por prediction\n",
    "    based on input parameters. Loss if gain == False, gain if gain == True.\"\"\"\n",
    "    proteins2 = proteins+['Mean']\n",
    "    which_scores = ['Precision', 'Recall', 'Improvement']\n",
    "    data = list()\n",
    "    for thresh in thresholds[10:]:\n",
    "        function = GetScores if gain == False else GetScoresGain\n",
    "        scores = function(functional_percentage, network_mincount, measure_cutoffs, thresh=thresh)\n",
    "        for name in which_scores:\n",
    "            for i, protein in enumerate(proteins2):\n",
    "                # add lines [protein, thresh, score, type]\n",
    "                data.append([protein, thresh, scores[name][i], name])\n",
    "    df = pd.DataFrame(data, columns=['Protein','Threshold','Score', 'Name'] )\n",
    "    df['Protein'] = df['Protein'].replace(get_name)\n",
    "    return df "
   ]
  },
  {
   "cell_type": "code",
   "execution_count": 13,
   "metadata": {},
   "outputs": [],
   "source": [
    "precision = BoxenData(0.4,3,[1.5]*3)\n",
    "recall = BoxenData(0.4, 2, [1]*3)\n",
    "both = BoxenData(0.4, 2, [1.5]*3)\n",
    "gain = BoxenData(0.4, 1, [1]*3, gain=True)"
   ]
  },
  {
   "cell_type": "code",
   "execution_count": 14,
   "metadata": {},
   "outputs": [
    {
     "data": {
      "image/png": "[encoded data removed]",
      "text/plain": [
       "<Figure size 439.2x439.2 with 3 Axes>"
      ]
     },
     "metadata": {},
     "output_type": "display_data"
    }
   ],
   "source": [
    "titles = ['A) Maximizing precision', 'B) Maximizing recall', 'C) Maximizing both']\n",
    "fig, axes = plt.subplots(3,1, figsize=(6.1, 6.1), sharey=True, constrained_layout=True)\n",
    "\n",
    "for j, (ax, data) in enumerate([(axes[0], precision), (axes[1], recall), (axes[2], both)]):\n",
    "    g = sns.violinplot(x='Protein', y='Score', data=data[data['Name']!='Improvement'], hue='Name',\n",
    "                col_order=data.Protein.unique(), sharex=True, palette=['#20b2aa', '#ffc3a0'], linewidth=0.8, ax=ax)\n",
    "    ax.get_legend().remove()\n",
    "    \n",
    "    if j!=2:\n",
    "        ax.set_xticklabels([])\n",
    "        ax.set_xlabel('')\n",
    "    \n",
    "    if j!=1:\n",
    "        ax.set_ylabel('')\n",
    "    else:\n",
    "        ax.set_ylabel('Score (\\%)')\n",
    "        \n",
    "    ax.title.set_text(titles[j])   \n",
    "\n",
    "    for i, protein in enumerate(data.Protein.unique()):\n",
    "        x = [i-1/5, i+1/5]\n",
    "        y = data[(data.Protein==protein) & (data.Threshold==9.) & (data.Name != 'Improvement')]['Score'].values\n",
    "        ax.scatter(x=x, y=y, c='#c7ffe9', zorder=3, s=10, marker='X', edgecolors='#3F3F3F', linewidths=0.4)\n",
    "#'#afd7ce'      \n",
    "ax=axes[2]\n",
    "X = ax.scatter([], [], marker='X', c='#c7ffe9', label='Scores for threshold 9\\AA{}', edgecolors='#3F3F3F', \n",
    "               linewidths=0.4)\n",
    "handles, labels = ax.get_legend_handles_labels()\n",
    "ax.legend(handles, labels, bbox_to_anchor=(1, -0.28), loc='upper right', ncol=3, frameon=False)\n",
    "\n",
    "fig = plt.gcf()\n",
    "fig.savefig('figures/loss_scores.png', dpi=300)"
   ]
  },
  {
   "cell_type": "code",
   "execution_count": 136,
   "metadata": {},
   "outputs": [
    {
     "data": {
      "image/png": "[encoded data removed]",
      "text/plain": [
       "<Figure size 439.2x180 with 1 Axes>"
      ]
     },
     "metadata": {},
     "output_type": "display_data"
    }
   ],
   "source": [
    "fig, ax = plt.subplots(1,1, figsize=(6.1, 2.5), sharey=True, constrained_layout=True)\n",
    "\n",
    "data = gain\n",
    "g = sns.violinplot(x='Protein', y='Score', data=data[data['Name']!='Improvement'], hue='Name',\n",
    "                col_order=data.Protein.unique(), sharex=True, palette=['#20b2aa', '#ffc3a0'], linewidth=0.8, ax=ax)\n",
    "ax.get_legend().remove()\n",
    "\n",
    "ax.set_ylabel('Score (\\%)')\n",
    "\n",
    "ax.title.set_text('Maximizing both')   \n",
    "\n",
    "for i, protein in enumerate(data.Protein.unique()):\n",
    "    x = [i-1/5, i+1/5]\n",
    "    y = data[(data.Protein==protein) & (data.Threshold==9.) & (data.Name != 'Improvement')]['Score'].values\n",
    "    ax.scatter(x=x, y=y, c='#c7ffe9', zorder=3, s=10, marker='X', edgecolors='#3F3F3F', linewidths=0.4)\n",
    "    \n",
    "#'#afd7ce'      \n",
    "X = ax.scatter([], [], marker='X', c='#c7ffe9', label='Scores for threshold 9\\AA{}',  edgecolors='#3F3F3F', \n",
    "               linewidths=0.4)\n",
    "handles, labels = ax.get_legend_handles_labels()\n",
    "ax.legend(handles, labels, bbox_to_anchor=(1, -0.28), loc='upper right', ncol=3, frameon=False)\n",
    "\n",
    "fig = plt.gcf()\n",
    "fig.savefig('figures/gain_scores.png', dpi=300)"
   ]
  },
  {
   "cell_type": "code",
   "execution_count": null,
   "metadata": {},
   "outputs": [],
   "source": [
    "## Sensitivity predictions"
   ]
  },
  {
   "cell_type": "code",
   "execution_count": 40,
   "metadata": {},
   "outputs": [
    {
     "name": "stdout",
     "output_type": "stream",
     "text": [
      "Precision, 80.54 +- 9.28\n",
      "Recall, 53.10 +- 9.14\n",
      "Improvement, 2.02 +- 0.23\n",
      "SSPs, 26.32 +- 3.88\n"
     ]
    }
   ],
   "source": [
    "## Mean scores and standard deviations for each prediction\n",
    "## Max precision\n",
    "prediction = GetScores(0.4, 3, [1.5]*3, mean=False)\n",
    "for measure in prediction.keys():\n",
    "    num = f\"{measure}, {np.mean(prediction[measure]):.2f} +- {np.std(prediction[measure]):.2f}\"\n",
    "    print(num)"
   ]
  },
  {
   "cell_type": "code",
   "execution_count": 41,
   "metadata": {},
   "outputs": [
    {
     "name": "stdout",
     "output_type": "stream",
     "text": [
      "Precision, 65.70 +- 6.16\n",
      "Recall, 82.18 +- 8.08\n",
      "Improvement, 1.64 +- 0.16\n",
      "SSPs, 50.00 +- 4.33\n"
     ]
    }
   ],
   "source": [
    "## Max recall\n",
    "prediction = GetScores(0.4, 2, [1]*3, mean=False)\n",
    "for measure in prediction.keys():\n",
    "    num = f\"{measure}, {np.mean(prediction[measure]):.2f} +- {np.std(prediction[measure]):.2f}\"\n",
    "    print(num)"
   ]
  },
  {
   "cell_type": "code",
   "execution_count": 42,
   "metadata": {},
   "outputs": [
    {
     "name": "stdout",
     "output_type": "stream",
     "text": [
      "Precision, 74.72 +- 5.08\n",
      "Recall, 69.32 +- 6.98\n",
      "Improvement, 1.87 +- 0.13\n",
      "SSPs, 37.04 +- 3.72\n"
     ]
    }
   ],
   "source": [
    "## Max both\n",
    "prediction = GetScores(0.4, 2, [1.5]*3, mean=False)\n",
    "for measure in prediction.keys():\n",
    "    num = f\"{measure}, {np.mean(prediction[measure]):.2f} +- {np.std(prediction[measure]):.2f}\"\n",
    "    print(num)"
   ]
  },
  {
   "cell_type": "code",
   "execution_count": null,
   "metadata": {},
   "outputs": [],
   "source": [
    "## Robustness predictions"
   ]
  },
  {
   "cell_type": "code",
   "execution_count": 43,
   "metadata": {},
   "outputs": [
    {
     "name": "stdout",
     "output_type": "stream",
     "text": [
      "Precision, 70.40 +- 4.65\n",
      "Recall, 65.06 +- 8.86\n",
      "Improvement, 1.76 +- 0.12\n",
      "SSPs, 36.78 +- 4.67\n"
     ]
    }
   ],
   "source": [
    "## Mean scores and standard deviations for each prediction\n",
    "## Max precision \n",
    "prediction = GetScoresGain(0.4, 1, [1]*3, mean=False)\n",
    "for measure in prediction.keys():\n",
    "    num = f\"{measure}, {np.mean(prediction[measure]):.2f} +- {np.std(prediction[measure]):.2f}\"\n",
    "    print(num)"
   ]
  },
  {
   "cell_type": "code",
   "execution_count": null,
   "metadata": {},
   "outputs": [],
   "source": []
  }
 ],
 "metadata": {
  "kernelspec": {
   "display_name": "Python 3",
   "language": "python",
   "name": "python3"
  },
  "language_info": {
   "codemirror_mode": {
    "name": "ipython",
    "version": 3
   },
   "file_extension": ".py",
   "mimetype": "text/x-python",
   "name": "python",
   "nbconvert_exporter": "python",
   "pygments_lexer": "ipython3",
   "version": "3.8.5"
  }
 },
 "nbformat": 4,
 "nbformat_minor": 4
}
