{
 "cells": [
  {
   "cell_type": "code",
   "execution_count": 1,
   "metadata": {},
   "outputs": [],
   "source": [
    "import pandas as pd\n",
    "import numpy as np\n",
    "import seaborn as sns\n",
    "import matplotlib.pyplot as plt\n",
    "from collections import Counter\n",
    "import Bio.PDB.Polypeptide as pp\n",
    "from os.path import join\n",
    "from sklearn.metrics import auc\n",
    "import os\n",
    "from main_functions import *"
   ]
  },
  {
   "cell_type": "code",
   "execution_count": 2,
   "metadata": {},
   "outputs": [],
   "source": [
    "DATA = 'data/'"
   ]
  },
  {
   "cell_type": "code",
   "execution_count": 3,
   "metadata": {},
   "outputs": [],
   "source": [
    "proteins = ['1be9', '1d5r', '1nd4', '3dqw', '4bz3']\n",
    "protein_names = ['PSD95', 'PTEN', 'APH(3\\')II', 'Src CD', 'VIM-2']\n",
    "get_name = dict(zip(proteins, protein_names))"
   ]
  },
  {
   "cell_type": "code",
   "execution_count": 4,
   "metadata": {},
   "outputs": [],
   "source": [
    "data_path = join(DATA, 'structure')\n",
    "thresholds = [round(i, 1) for i in np.linspace(3, 10, 71)]\n",
    "sample_thresholds = [round(i, 1) for i in np.linspace(3, 10, 8)]\n",
    "measures = ['nodes', 'edges', 'weight', 'distance']"
   ]
  },
  {
   "cell_type": "code",
   "execution_count": 5,
   "metadata": {},
   "outputs": [],
   "source": [
    "functional_data = dict()\n",
    "for protein in proteins:\n",
    "    csv_file = join(DATA, f'functional_{protein}.csv')\n",
    "    functional_data[protein] = pd.read_csv(csv_file, index_col=0, header=0)"
   ]
  },
  {
   "cell_type": "code",
   "execution_count": 6,
   "metadata": {},
   "outputs": [],
   "source": [
    "tex_fonts = {\n",
    "    # Use LaTeX to write all text\n",
    "    \"text.usetex\": True,\n",
    "    \"font.family\": \"serif\",\n",
    "    # Use 10pt font in plots, to match 10pt font in document\n",
    "    \"axes.labelsize\": 10,\n",
    "    \"font.size\": 10,\n",
    "    # Make the legend/label fonts a little smaller\n",
    "    \"legend.fontsize\": 8,\n",
    "    \"xtick.labelsize\": 8,\n",
    "    \"ytick.labelsize\": 8\n",
    "}\n",
    "\n",
    "plt.rcParams.update(tex_fonts)"
   ]
  },
  {
   "cell_type": "markdown",
   "metadata": {},
   "source": [
    "### ROC curve"
   ]
  },
  {
   "cell_type": "markdown",
   "metadata": {},
   "source": [
    "$$ \\text{True Positive Rate} = \\frac{\\text{TP}}{\\text{TP + FN}} $$ \\\n",
    "$$ \\text{False Positive Rate} = \\frac{\\text{FP}}{\\text{FP + TN}} $$"
   ]
  },
  {
   "cell_type": "code",
   "execution_count": 7,
   "metadata": {},
   "outputs": [],
   "source": [
    "def DataCutoffROC(functional_percentage, network_mincount, thresh=9.0):\n",
    "    \"\"\"Return DataFrame with data to plot ROC curve. For each protein, we calculate true positive rate and\n",
    "    false positive rate, then obtain the mean. Vary cutoff from 1 to 2. Tests predictions for sensitivity.\"\"\"\n",
    "    cutoffs = [round(x,2) for x in np.linspace(0,3,101)][1:]\n",
    "    \n",
    "    proteins2 = proteins + [\"Mean\"]\n",
    "    index = pd.MultiIndex.from_product([proteins2, [\"TPR\", \"FPR\"]], names=[\"Protein\", \"Measure\"])\n",
    "    df = pd.DataFrame(index=index, columns=cutoffs)\n",
    "    \n",
    "    for protein in proteins:\n",
    "        funct_extremes = GetPercentage(functional_percentage, 'lowest', functional_data[protein])\n",
    "        total_positions = set(functional_data[protein].columns)\n",
    "        for cutoff in cutoffs:\n",
    "            measure_cutoffs = [cutoff]*3\n",
    "            network_extremes = GetNetworkExtremes(protein, network_mincount, measure_cutoffs=measure_cutoffs, \n",
    "                                                  thresh=thresh)\n",
    "            if cutoff == 0:\n",
    "                print(protein, len())\n",
    "            TP = len(network_extremes.intersection(funct_extremes))\n",
    "            FP = len(network_extremes.difference(funct_extremes))\n",
    "            FN = len(funct_extremes.difference(network_extremes))\n",
    "            TN = len(total_positions) - TP - FP - FN\n",
    "            \n",
    "            df.at[(protein, \"TPR\"), cutoff] = round(TP/(TP+FN), 3)\n",
    "            df.at[(protein, \"FPR\"), cutoff] = round(FP/(FP+TN), 3)\n",
    "            \n",
    "    df.loc[(\"Mean\", \"TPR\")] = df[df.index.get_level_values('Measure').isin(['TPR'])].mean()\n",
    "    df.loc[(\"Mean\", \"FPR\")] = df[df.index.get_level_values('Measure').isin(['FPR'])].mean()\n",
    "    \n",
    "    return df"
   ]
  },
  {
   "cell_type": "code",
   "execution_count": 8,
   "metadata": {},
   "outputs": [],
   "source": [
    "def DataCutoffROC_R(functional_percentage, network_mincount, thresh=9.0):\n",
    "    \"\"\"Return DataFrame with data to plot ROC curve. For each protein, we calculate true positive rate and\n",
    "    false positive rate, then obtain the mean. Vary cutoff from 1 to 2. Tests predictions for robustness. \"\"\"\n",
    "    cutoffs = [round(x,2) for x in np.linspace(0,3,101)][1:]\n",
    "    \n",
    "    proteins2 = proteins + [\"Mean\"]\n",
    "    index = pd.MultiIndex.from_product([proteins2, [\"TPR\", \"FPR\"]], names=[\"Protein\", \"Measure\"])\n",
    "    df = pd.DataFrame(index=index, columns=cutoffs)\n",
    "    \n",
    "    for protein in proteins:\n",
    "        funct_extremes = GetPercentage(functional_percentage, 'highest', functional_data[protein])\n",
    "        total_positions = set(functional_data[protein].columns)\n",
    "        \n",
    "        for cutoff in cutoffs:\n",
    "            measure_cutoffs = [cutoff]*3\n",
    "            network_extremes_loss = GetNetworkExtremes(protein, network_mincount, measure_cutoffs, thresh=thresh)\n",
    "            network_extremes = set([pos for pos in total_positions if pos not in network_extremes_loss])\n",
    "        \n",
    "            if cutoff == 0:\n",
    "                print(protein, len())\n",
    "            TP = len(network_extremes.intersection(funct_extremes))\n",
    "            FP = len(network_extremes.difference(funct_extremes))\n",
    "            FN = len(funct_extremes.difference(network_extremes))\n",
    "            TN = len(total_positions) - TP - FP - FN\n",
    "            \n",
    "            df.at[(protein, \"TPR\"), cutoff] = round(TP/(TP+FN), 3)\n",
    "            df.at[(protein, \"FPR\"), cutoff] = round(FP/(FP+TN), 3)\n",
    "            \n",
    "    df.loc[(\"Mean\", \"TPR\")] = df[df.index.get_level_values('Measure').isin(['TPR'])].mean()\n",
    "    df.loc[(\"Mean\", \"FPR\")] = df[df.index.get_level_values('Measure').isin(['FPR'])].mean()\n",
    "    \n",
    "    return df"
   ]
  },
  {
   "cell_type": "code",
   "execution_count": 23,
   "metadata": {},
   "outputs": [],
   "source": [
    "def ROC_R(df):\n",
    "    \"\"\"Plot ROC from DataFrame (obtained from DataCutoffROC), calculate AUC. Data from robustness predictions. \"\"\"\n",
    "    \n",
    "    fig, axes = plt.subplots(nrows=1, ncols=1, figsize=(4,4), sharex=True, sharey=True)\n",
    "    \n",
    "    fig.add_subplot(111, frameon=False)\n",
    "    plt.tick_params(labelcolor='none', top=False, bottom=False, left=False, right=False)\n",
    "    plt.ylabel('True Positive Rate', labelpad=8)\n",
    "    plt.xlabel('False Positive Rate', labelpad=6)\n",
    "    \n",
    "    #colors = ['C0', 'C2', 'C4', 'C6', 'C9', '#9D2EC5']\n",
    "    #colors = ['#DB4939', '#F48B28', '#EDE172', '#A1D755', '#4B8B63', '#1FB689']\n",
    "    colors = ['#7fc97f', '#beaed4', '#fdc086', '#f08080', '#386cb0', '#f0027f']\n",
    "    areas = []\n",
    "    proteins2 = proteins + [\"Mean\"]\n",
    "    for i, protein in enumerate(proteins2):\n",
    "        tpr = df.loc[(protein, \"TPR\"), :].values.tolist()\n",
    "        fpr = df.loc[(protein, \"FPR\"), :].values.tolist()\n",
    "        \n",
    "        ax = plt.gca()\n",
    "        ax.set_xlim(0,1)\n",
    "        ax.set_ylim(0,1)\n",
    "        \n",
    "        areas.append(auc([0]+fpr+[1],[0]+tpr+[1])) ## add AUC\n",
    "        if protein!=\"Mean\":\n",
    "            label = f\"{protein_names[i]} (AUC = {areas[i]:.2f})\"\n",
    "        else:\n",
    "            label = f\"Mean (AUC = {np.mean(areas):.2f} $\\pm$ {np.std(areas):.2f})\"\n",
    "        \n",
    "        linewidth = 0.8 if i!=5 else 2\n",
    "        ax.plot(fpr, tpr, markeredgewidth=0.0, linewidth=linewidth, color=colors[i], \n",
    "                label=label)\n",
    "        ax.plot([0, fpr[0]], [0, tpr[0]], '--', markeredgewidth=0.0, linewidth=1, color=colors[i])\n",
    "        ax.plot([fpr[-1], 1], [tpr[-1], 1], '--', markeredgewidth=0.0, linewidth=1, color=colors[i])\n",
    "        \n",
    "        ax.set_aspect(1./ax.get_data_ratio())\n",
    "        \n",
    "    ax.plot([0,1], [0,1], \"--\", markeredgewidth=0.0, linewidth=1, color='C7')    \n",
    "    handles, labels = ax.get_legend_handles_labels()       \n",
    "    fig.legend(handles, labels, loc='lower right', bbox_to_anchor=(0.91, 0.12), frameon=False)\n",
    "        \n",
    "    return fig"
   ]
  },
  {
   "cell_type": "code",
   "execution_count": 21,
   "metadata": {},
   "outputs": [],
   "source": [
    "def ROC(df):\n",
    "    \"\"\"Plot ROC from DataFrame (obtained from DataCutoffROC), calculate AUC.\"\"\"\n",
    "    \n",
    "    fig, axes = plt.subplots(nrows=1, ncols=1, figsize=(4,4), sharex=True, sharey=True)\n",
    "    \n",
    "    fig.add_subplot(111, frameon=False)\n",
    "    plt.tick_params(labelcolor='none', top=False, bottom=False, left=False, right=False)\n",
    "    plt.ylabel('True Positive Rate', labelpad=8)\n",
    "    plt.xlabel('False Positive Rate', labelpad=6)\n",
    "    \n",
    "    colors = ['#7fc97f', '#beaed4', '#fdc086', '#f08080', '#386cb0', '#f0027f']\n",
    "    \n",
    "    areas = []\n",
    "    proteins2 = proteins + [\"Mean\"]\n",
    "    for i, protein in enumerate(proteins2):\n",
    "        tpr = df.loc[(protein, \"TPR\"), :].values.tolist()\n",
    "        fpr = df.loc[(protein, \"FPR\"), :].values.tolist()\n",
    "        \n",
    "        ax = plt.gca()\n",
    "        ax.set_xlim(0,1)\n",
    "        ax.set_ylim(0,1)\n",
    "        \n",
    "        areas.append(auc([1]+fpr+[0],[1]+tpr+[0])) ## add AUC\n",
    "        if protein!=\"Mean\":\n",
    "            label = f\"{protein_names[i]} (AUC = {areas[i]:.2f})\"\n",
    "        else:\n",
    "            label = f\"Mean (AUC = {np.mean(areas):.2f} $\\pm$ {np.std(areas):.2f})\"\n",
    "        \n",
    "        linewidth = 0.8 if i!=5 else 2\n",
    "        ax.plot(fpr, tpr, markeredgewidth=0.0, linewidth=linewidth, color=colors[i], \n",
    "                label=label)\n",
    "        ax.plot([1, fpr[0]], [1, tpr[0]], '--', markeredgewidth=0.0, linewidth=1, color=colors[i])\n",
    "        ax.plot([fpr[-1], 0], [tpr[-1], 0], '--', markeredgewidth=0.0, linewidth=1, color=colors[i])\n",
    "        \n",
    "        ax.set_aspect(1./ax.get_data_ratio())\n",
    "        \n",
    "    ax.plot([0,1], [0,1], \"--\", markeredgewidth=0.0, linewidth=1, color='C7')    \n",
    "    handles, labels = ax.get_legend_handles_labels()       \n",
    "    fig.legend(handles, labels, loc='lower right', bbox_to_anchor=(0.91, 0.12), frameon=False)\n",
    "        \n",
    "    return fig"
   ]
  },
  {
   "cell_type": "code",
   "execution_count": 13,
   "metadata": {},
   "outputs": [],
   "source": [
    "df = DataCutoffROC(0.4, 2)"
   ]
  },
  {
   "cell_type": "code",
   "execution_count": 22,
   "metadata": {},
   "outputs": [
    {
     "data": {
      "image/png": "[encoded data removed]",
      "text/plain": [
       "<Figure size 288x288 with 2 Axes>"
      ]
     },
     "metadata": {
      "needs_background": "light"
     },
     "output_type": "display_data"
    }
   ],
   "source": [
    "roc_cutoffs = ROC(df)\n",
    "roc_cutoffs.savefig(\"figures/roc_cutoffs_2_no_dist.png\", dpi=300)"
   ]
  },
  {
   "cell_type": "code",
   "execution_count": 129,
   "metadata": {},
   "outputs": [],
   "source": [
    "#### ROC curves for robustness predictions"
   ]
  },
  {
   "cell_type": "code",
   "execution_count": 25,
   "metadata": {},
   "outputs": [],
   "source": [
    "df_cutoffs_1_r = DataCutoffROC_R(0.4,1)"
   ]
  },
  {
   "cell_type": "code",
   "execution_count": 26,
   "metadata": {},
   "outputs": [
    {
     "data": {
      "image/png": "[encoded data removed]",
      "text/plain": [
       "<Figure size 288x288 with 2 Axes>"
      ]
     },
     "metadata": {
      "needs_background": "light"
     },
     "output_type": "display_data"
    }
   ],
   "source": [
    "roc_cutoffs_1_r = ROC_R(df_cutoffs_1_r)\n",
    "roc_cutoffs_1_r.savefig(\"figures/roc_cutoffs_1_gain_no_dist.png\", dpi=300)"
   ]
  },
  {
   "cell_type": "code",
   "execution_count": null,
   "metadata": {},
   "outputs": [],
   "source": []
  },
  {
   "cell_type": "code",
   "execution_count": null,
   "metadata": {},
   "outputs": [],
   "source": []
  },
  {
   "cell_type": "code",
   "execution_count": null,
   "metadata": {},
   "outputs": [],
   "source": []
  }
 ],
 "metadata": {
  "kernelspec": {
   "display_name": "Python 3",
   "language": "python",
   "name": "python3"
  },
  "language_info": {
   "codemirror_mode": {
    "name": "ipython",
    "version": 3
   },
   "file_extension": ".py",
   "mimetype": "text/x-python",
   "name": "python",
   "nbconvert_exporter": "python",
   "pygments_lexer": "ipython3",
   "version": "3.9.1"
  }
 },
 "nbformat": 4,
 "nbformat_minor": 4
}
